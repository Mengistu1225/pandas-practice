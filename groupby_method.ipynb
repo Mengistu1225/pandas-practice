{
 "cells": [
  {
   "cell_type": "code",
   "execution_count": 1,
   "id": "112a6c91-cbb5-42f7-b7ef-a2f6743ec19e",
   "metadata": {},
   "outputs": [],
   "source": [
    "import pandas as pd"
   ]
  },
  {
   "cell_type": "code",
   "execution_count": null,
   "id": "4ebeff2f-25a1-4ae4-bffb-e6ecd98e9adb",
   "metadata": {},
   "outputs": [],
   "source": [
    "Key Steps in groupby:\n",
    " 1 Splitting: Divides the data into groups based on a column or set of columns.\n",
    " 2 Applying: Applies a function (e.g., sum, mean, max) to each group.\n",
    " 3 Combining: Combines the results into a new DataFrame or Series."
   ]
  },
  {
   "cell_type": "code",
   "execution_count": 3,
   "id": "9c18d573-92fa-4899-b801-a25475a5ef46",
   "metadata": {},
   "outputs": [
    {
     "name": "stdout",
     "output_type": "stream",
     "text": [
      "  Region Product  Sales\n",
      "0  North       A    200\n",
      "1  South       B    120\n",
      "2  North       C    340\n",
      "3   East       A    150\n",
      "4  South       C     80\n",
      "5   East       B    100\n"
     ]
    }
   ],
   "source": [
    "data = {\n",
    "    'Region': ['North', 'South', 'North', 'East', 'South', 'East'],\n",
    "    'Product': ['A', 'B', 'C', 'A', 'C', 'B'],\n",
    "    'Sales': [200, 120, 340, 150, 80, 100]\n",
    "}\n",
    "\n",
    "df = pd.DataFrame(data)\n",
    "print(df)"
   ]
  },
  {
   "cell_type": "markdown",
   "id": "01d464b7-17f2-4d6e-9478-509b8dcc0178",
   "metadata": {},
   "source": [
    "## Group by Region and Sum Sales\n",
    "#### We want to find the total sales in each region:"
   ]
  },
  {
   "cell_type": "code",
   "execution_count": 8,
   "id": "c5042098-a0e8-4f1e-bae2-8a15c67f77d5",
   "metadata": {},
   "outputs": [
    {
     "name": "stdout",
     "output_type": "stream",
     "text": [
      "Region\n",
      "East     250\n",
      "North    540\n",
      "South    200\n",
      "Name: Sales, dtype: int64\n"
     ]
    }
   ],
   "source": [
    "grouped_sales = df.groupby('Region')['Sales'].sum()\n",
    "print(grouped_sales)"
   ]
  },
  {
   "cell_type": "markdown",
   "id": "9c180792-a3de-4ae1-ba02-7db5fb921e73",
   "metadata": {},
   "source": [
    "## Multiple Aggregations\n",
    "### We can calculate multiple statistics like sum and mean for each region:"
   ]
  },
  {
   "cell_type": "code",
   "execution_count": 11,
   "id": "8a7605f9-deb3-4dfd-9ee0-4d50028d3ebc",
   "metadata": {},
   "outputs": [
    {
     "name": "stdout",
     "output_type": "stream",
     "text": [
      "        sum   mean\n",
      "Region            \n",
      "East    250  125.0\n",
      "North   540  270.0\n",
      "South   200  100.0\n"
     ]
    }
   ],
   "source": [
    "grouped_stats = df.groupby('Region')['Sales'].agg(['sum', 'mean'])\n",
    "print(grouped_stats)\n"
   ]
  },
  {
   "cell_type": "markdown",
   "id": "b2837b8f-3365-4be9-93f6-bf4176c983ec",
   "metadata": {},
   "source": [
    "## Grouping by Multiple Columns\n",
    "### We can group by both Region and Product:"
   ]
  },
  {
   "cell_type": "code",
   "execution_count": 14,
   "id": "90517801-19cc-41c6-a831-eb0ed5c8c1b1",
   "metadata": {},
   "outputs": [
    {
     "name": "stdout",
     "output_type": "stream",
     "text": [
      "Region  Product\n",
      "East    A          150\n",
      "        B          100\n",
      "North   A          200\n",
      "        C          340\n",
      "South   B          120\n",
      "        C           80\n",
      "Name: Sales, dtype: int64\n"
     ]
    }
   ],
   "source": [
    "grouped_multi = df.groupby(['Region', 'Product'])['Sales'].sum()\n",
    "print(grouped_multi)\n"
   ]
  },
  {
   "cell_type": "markdown",
   "id": "e4f7d5cf-397f-49d0-8a80-872048602823",
   "metadata": {},
   "source": [
    "## Accessing Specific Groups\n",
    "### You can access a specific group using .get_group():"
   ]
  },
  {
   "cell_type": "code",
   "execution_count": 19,
   "id": "c5f2e04b-cd5f-4224-bbe6-d57959c67952",
   "metadata": {},
   "outputs": [
    {
     "name": "stdout",
     "output_type": "stream",
     "text": [
      "  Region Product  Sales\n",
      "0  North       A    200\n",
      "2  North       C    340\n"
     ]
    }
   ],
   "source": [
    "north_sales = df.groupby('Region').get_group('North')\n",
    "print(north_sales)"
   ]
  },
  {
   "cell_type": "raw",
   "id": "81b17b3c-a733-45ad-9f49-49066deef53d",
   "metadata": {},
   "source": [
    "Use Cases of groupby:\n",
    " 1 Summarizing data: Calculate total, average, or other statistics for specific groups.\n",
    " 2 Data analysis: Find patterns or trends within grouped categories.\n",
    " 3 Data transformation: Apply functions to subsets of data grouped by categories.\n"
   ]
  },
  {
   "cell_type": "code",
   "execution_count": null,
   "id": "9369fe41-c723-4fec-a530-75ca7d69ed91",
   "metadata": {},
   "outputs": [],
   "source": []
  }
 ],
 "metadata": {
  "kernelspec": {
   "display_name": "Python 3 (ipykernel)",
   "language": "python",
   "name": "python3"
  },
  "language_info": {
   "codemirror_mode": {
    "name": "ipython",
    "version": 3
   },
   "file_extension": ".py",
   "mimetype": "text/x-python",
   "name": "python",
   "nbconvert_exporter": "python",
   "pygments_lexer": "ipython3",
   "version": "3.12.4"
  }
 },
 "nbformat": 4,
 "nbformat_minor": 5
}
