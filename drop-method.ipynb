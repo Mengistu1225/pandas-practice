{
 "cells": [
  {
   "cell_type": "code",
   "execution_count": 1,
   "id": "a203582e-5f91-48e1-b1d1-0dec73fa244b",
   "metadata": {},
   "outputs": [],
   "source": [
    "import pandas as pd\n",
    "import numpy as np"
   ]
  },
  {
   "cell_type": "code",
   "execution_count": 5,
   "id": "4d146523-fc97-403a-a506-7faf8ac0e8a5",
   "metadata": {},
   "outputs": [
    {
     "data": {
      "text/html": [
       "<div>\n",
       "<style scoped>\n",
       "    .dataframe tbody tr th:only-of-type {\n",
       "        vertical-align: middle;\n",
       "    }\n",
       "\n",
       "    .dataframe tbody tr th {\n",
       "        vertical-align: top;\n",
       "    }\n",
       "\n",
       "    .dataframe thead th {\n",
       "        text-align: right;\n",
       "    }\n",
       "</style>\n",
       "<table border=\"1\" class=\"dataframe\">\n",
       "  <thead>\n",
       "    <tr style=\"text-align: right;\">\n",
       "      <th></th>\n",
       "      <th>Column1</th>\n",
       "      <th>Column2</th>\n",
       "      <th>Column3</th>\n",
       "    </tr>\n",
       "  </thead>\n",
       "  <tbody>\n",
       "    <tr>\n",
       "      <th>0</th>\n",
       "      <td>1</td>\n",
       "      <td>4</td>\n",
       "      <td>7</td>\n",
       "    </tr>\n",
       "    <tr>\n",
       "      <th>1</th>\n",
       "      <td>2</td>\n",
       "      <td>5</td>\n",
       "      <td>8</td>\n",
       "    </tr>\n",
       "    <tr>\n",
       "      <th>2</th>\n",
       "      <td>3</td>\n",
       "      <td>6</td>\n",
       "      <td>9</td>\n",
       "    </tr>\n",
       "  </tbody>\n",
       "</table>\n",
       "</div>"
      ],
      "text/plain": [
       "   Column1  Column2  Column3\n",
       "0        1        4        7\n",
       "1        2        5        8\n",
       "2        3        6        9"
      ]
     },
     "execution_count": 5,
     "metadata": {},
     "output_type": "execute_result"
    }
   ],
   "source": [
    "# Sample DataFrame\n",
    "data = {'Column1': [1, 2, 3], 'Column2': [4, 5, 6], 'Column3': [7, 8, 9]}\n",
    "df = pd.DataFrame(data)\n",
    "df"
   ]
  },
  {
   "cell_type": "code",
   "execution_count": 7,
   "id": "ffc136eb-a575-4747-b631-fd2352eb57dc",
   "metadata": {},
   "outputs": [],
   "source": [
    "## using drop method\n",
    "\n",
    "# Drop a single column\n",
    "df_new = df.drop('Column2', axis=1)\n",
    "\n",
    "# Drop multiple columns\n",
    "df_new = df.drop(['Column1', 'Column3'], axis=1)\n",
    "\n",
    "# Drop columns by index\n",
    "df_new = df.drop(df.columns[1], axis=1)  # Drop the second column"
   ]
  },
  {
   "cell_type": "code",
   "execution_count": 9,
   "id": "f6005242-54f9-4e7b-a0d3-d335152aec7d",
   "metadata": {},
   "outputs": [],
   "source": [
    "## using boolean indexing\n",
    "\n",
    "\n",
    "# Create a boolean mask for the columns to keep\n",
    "columns_to_keep = ['Column1', 'Column3']\n",
    "df_new = df[columns_to_keep]"
   ]
  },
  {
   "cell_type": "code",
   "execution_count": null,
   "id": "45c5e2d8-44c2-45cd-a840-f5badb0c2ce5",
   "metadata": {},
   "outputs": [],
   "source": []
  }
 ],
 "metadata": {
  "kernelspec": {
   "display_name": "Python 3 (ipykernel)",
   "language": "python",
   "name": "python3"
  },
  "language_info": {
   "codemirror_mode": {
    "name": "ipython",
    "version": 3
   },
   "file_extension": ".py",
   "mimetype": "text/x-python",
   "name": "python",
   "nbconvert_exporter": "python",
   "pygments_lexer": "ipython3",
   "version": "3.12.4"
  }
 },
 "nbformat": 4,
 "nbformat_minor": 5
}
